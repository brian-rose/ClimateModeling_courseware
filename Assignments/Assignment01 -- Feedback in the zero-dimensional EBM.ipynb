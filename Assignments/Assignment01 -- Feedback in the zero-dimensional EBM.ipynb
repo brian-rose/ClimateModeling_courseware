{
 "cells": [
  {
   "cell_type": "markdown",
   "metadata": {},
   "source": [
    "# [ATM 623: Climate Modeling](../index.ipynb)\n",
    "\n",
    "[Brian E. J. Rose](http://www.atmos.albany.edu/facstaff/brose/index.html), University at Albany\n",
    "\n",
    "## Assignment 1: Feedback in the zero-dimensional EBM"
   ]
  },
  {
   "cell_type": "markdown",
   "metadata": {},
   "source": [
    "- Make a copy or branch of this notebook file so you can add your answer in additional cells.\n",
    "- Complete all the problems below. \n",
    "- For each problem, show your code and calculations.\n",
    "- Feel free to include comments in your code to explain your method as necessary.\n",
    "- Submit your solutions in a single Jupyter notebook that contains your text, your code, and your figures.\n",
    "- *Make sure that your notebook runs cleanly from start to finish:*\n",
    "    - Save your notebook\n",
    "    - From the `Kernel` menu, select `Restart & Run All`\n",
    "    - Did the notebook run from start to finish without error and produe the expected output?\n",
    "    - If yes, save again and submit your notebook file\n",
    "    - If no, fix the errors and try again.\n",
    "- Save your notebook as `[your last name].ipynb`, e.g. my notebook should be called `Rose.ipynb`.  *This makes it easier for me when I collect all your answers*\n",
    "- Submit your answers by email before class on **Thursday February 7 2019**."
   ]
  },
  {
   "cell_type": "markdown",
   "metadata": {},
   "source": [
    "### Reading assignment\n",
    "\n",
    "Read this review paper:\n",
    "\n",
    "[Roe, Gerard (2009): Feedbacks, Timescales, and Seeing Red. Annu. Rev. Earth Planet. Sci. 37:93–115. doi:10.1146/annurev.earth.061008.134734](http://annualreviews.org/doi/abs/10.1146/annurev.earth.061008.134734)\n",
    "\n",
    "Write at least one paragraph commentary on this article. What did you find most interesting or surprising? You are also welcome to offer criticisms or rebuttals to anything in the article."
   ]
  },
  {
   "cell_type": "markdown",
   "metadata": {},
   "source": [
    "*Your commentary here*"
   ]
  },
  {
   "cell_type": "markdown",
   "metadata": {},
   "source": [
    "### Question 1: Radiative forcing in the zero-dimensional energy balance model"
   ]
  },
  {
   "cell_type": "markdown",
   "metadata": {},
   "source": [
    "In lecture we defined a zero-dimensional energy balance model for the global mean surface temperature $T$ as follows\n",
    "\n",
    "$$C  \\frac{dT}{dt} =(1-α)Q- OLR(T)$$\n",
    "\n",
    "$$OLR= \\tau \\sigma T^4$$\n",
    "\n",
    "where we defined these terms:\n",
    "- $C$ is a heat capacity for the atmosphere-ocean column\n",
    "- $\\alpha$ is the global mean planetary albedo\n",
    "- $\\sigma = 5.67 \\times 10^{-8}$ W m$^{-2}$ K$^{-4}$ is the Stefan-Boltzmann constant\n",
    "- $\\tau$ is our parameter for the atmospheric transmissivity\n",
    "- $Q$ is the global-mean incoming solar radiation."
   ]
  },
  {
   "cell_type": "markdown",
   "metadata": {},
   "source": [
    "Following our course notes, set up values for all parameters so that the model reproduces the observed global average surface temperature $T=288$ K at equilibrium given the observed top-of-atmosphere shortwave and longwave radiative fluxes from the Trenberth and Fasullo figure from [Lecture 1](../Lectures/Lecture01 -- Planetary energy budget.ipynb). \n",
    "\n",
    "Suppose (for now) that the planetary albedo $\\alpha$ is fixed at its observed value."
   ]
  },
  {
   "cell_type": "markdown",
   "metadata": {},
   "source": [
    "Doubling atmospheric CO$_2$ makes the atmosphere more opaque to longwave radiation. Suppose that we can represent this in the EBM as a 1.5 % decrease in the value of $\\tau$."
   ]
  },
  {
   "cell_type": "markdown",
   "metadata": {},
   "source": [
    "(a) Calculate the radiative forcing $\\Delta R$ in this model due to a doubling of CO$_2$."
   ]
  },
  {
   "cell_type": "markdown",
   "metadata": {},
   "source": [
    "(b) Calculate the no-feedback equilibrium response $\\Delta T_0$."
   ]
  },
  {
   "cell_type": "markdown",
   "metadata": {},
   "source": [
    "(c) Using numerical timestepping, make a well-labeled graph of the timeseries of temperature $T(t)$ as it adjusts from initial temperature 288 K to its new equilibrium."
   ]
  },
  {
   "cell_type": "markdown",
   "metadata": {},
   "source": [
    "### Question 2: Water vapor feedback in the EBM"
   ]
  },
  {
   "cell_type": "markdown",
   "metadata": {},
   "source": [
    "In reality, the longwave opacity increases further as the planet warms because the atmosphere tends to get moister and water vapor provides an additional greenhouse effect.\n",
    "\n",
    "Let's parameterize the water vapor feedback in the EBM through a formula\n",
    "\n",
    "$$ \\tau(T) = \\tau_0 - \\frac{T - 288 \\text{K}}{400 \\text{ K}} $$\n",
    "\n",
    "where $\\tau_0$ is the value at $T = 288$ K."
   ]
  },
  {
   "cell_type": "markdown",
   "metadata": {},
   "source": [
    "(a) Implement this formula in a Python function.\n",
    "\n",
    "As in Question 1, use numerical timestepping to investigate the adjustment of the EBM to its new equilibrium temperature after doubling CO$_2$. \n",
    "\n",
    "Make a well-labeled graph to compare the timeseries $T(t)$ with and without the water vapor feedback. Comment on the differences in climate sensitivity and in adjustment time."
   ]
  },
  {
   "cell_type": "markdown",
   "metadata": {},
   "source": [
    "(b) Calculate the **system gain** $g$ due to the water vapor feedback and the corresponding **feedback amount** $f_w$."
   ]
  },
  {
   "cell_type": "markdown",
   "metadata": {},
   "source": [
    "### Question 3: Albedo feedback in the EBM"
   ]
  },
  {
   "cell_type": "markdown",
   "metadata": {},
   "source": [
    "For this exercise, we will introduce a new physical process into our model by letting the planetary albedo depend on temperature. The idea is that a warmer planet has less ice and snow at the surface, and thus a lower planetary albedo.\n",
    "\n",
    "Represent the ice-albedo feedback through the following formula:\n",
    "\n",
    "$$ \\alpha(T) = \\left\\{ \\begin{array}{ccc}\n",
    "\\alpha_i &   & T \\le T_i \\\\\n",
    "\\alpha_o + (\\alpha_i-\\alpha_o) \\frac{(T-T_o)^2}{(T_i-T_o)^2} &   & T_i < T < T_o \\\\\n",
    "\\alpha_o &   & T \\ge T_o \\end{array} \\right\\}$$\n",
    "\n",
    "with the following parameter values:\n",
    "\n",
    "- $\\alpha_o = 0.289$ is the albedo of a warm, ice-free planet\n",
    "- $\\alpha_i = 0.7$ is the albedo of a very cold, completely ice-covered planet\n",
    "- $T_o = 293$ K is the threshold temperature above which our model assumes the planet is ice-free\n",
    "- $T_i = 260$ K is the threshold temperature below which our model assumes the planet is completely ice covered. \n",
    "\n",
    "For intermediate temperature, this formula gives a smooth variation in albedo with global mean temperature. It is tuned to reproduce the observed albedo $\\alpha = 0.299$ for $T = 288$ K. "
   ]
  },
  {
   "cell_type": "markdown",
   "metadata": {},
   "source": [
    "(a):\n",
    "\n",
    "- Define a Python function that implements the above albedo formula. *There is definitely more than one way to do it. It doesn't matter how you do it as long as it works!*\n",
    "-  Use your function to calculate albedos for a wide range on planetary temperature (e.g. from $T=250$ K to $T=300$ K.)\n",
    "- Present your results (albedo as a function of global mean temperature) in a nicely labeled figure."
   ]
  },
  {
   "cell_type": "markdown",
   "metadata": {},
   "source": [
    "(b):\n",
    "\n",
    "Repeat question 2(a), this time including the albedo feedback but ignoring the water vapor feedback (i.e. $\\beta$ does not decrease with temperature). Again, use numerical timestepping to calculate the new equilibrium temperature after the increase in greenhouse gases, including the albedo feedback. Show your code, and make sure that you iterate enough times to ensure your solution is very very close to equilibrium. Make a graph comparing the timeseries in the three model versions used so far."
   ]
  },
  {
   "cell_type": "markdown",
   "metadata": {},
   "source": [
    "(c): \n",
    "\n",
    "Repeat question 2(b), calculating the **system gain** $g$ and **feedback amount** $f_i$ associated with this albedo feedback."
   ]
  },
  {
   "cell_type": "markdown",
   "metadata": {},
   "source": [
    "### Question 4: Combining feedbacks\n",
    "\n",
    "Repeat 3(b) and 3(c) but this time including *both* the water vapor and albedo feedback processes in the EBM.\n",
    "\n",
    "Comment on the following:\n",
    "\n",
    "- Are the feedback amounts additive? (in other words, do you find the $f = f_i + f_w$?\n",
    "- Are the system gains additive?\n",
    "- How does the feedback amount change the timescale of adjustment?"
   ]
  },
  {
   "cell_type": "markdown",
   "metadata": {},
   "source": [
    "### Question 5: Uncertainty in feedback and response\n",
    "\n",
    "Inspired by Figure 5 of the paper by Gerard Roe, show that a *small uncertainty in the magnitude of the water vapor feedback* translates to a *larger uncertainty* in climate sensitivity if the model also includes the albedo feedback, even if there is no uncertainty in the albedo feedback itself.\n",
    "\n",
    "Present your arguments and results any way you see fit, but make sure your method and your code are clear."
   ]
  },
  {
   "cell_type": "markdown",
   "metadata": {},
   "source": [
    "<div class=\"alert alert-success\">\n",
    "[Back to ATM 623 notebook home](../index.ipynb)\n",
    "</div>"
   ]
  },
  {
   "cell_type": "markdown",
   "metadata": {},
   "source": [
    "____________\n",
    "\n",
    "## Credits\n",
    "\n",
    "The author of this notebook is [Brian E. J. Rose](http://www.atmos.albany.edu/facstaff/brose/index.html), University at Albany.\n",
    "\n",
    "It was developed in support of [ATM 623: Climate Modeling](http://www.atmos.albany.edu/facstaff/brose/classes/ATM623_Spring2015/), a graduate-level course in the [Department of Atmospheric and Envionmental Sciences](http://www.albany.edu/atmos/index.php)\n",
    "\n",
    "Development of these notes and the [climlab software](https://github.com/brian-rose/climlab) is partially supported by the National Science Foundation under award AGS-1455071 to Brian Rose. Any opinions, findings, conclusions or recommendations expressed here are mine and do not necessarily reflect the views of the National Science Foundation.\n",
    "____________"
   ]
  },
  {
   "cell_type": "code",
   "execution_count": null,
   "metadata": {
    "collapsed": true
   },
   "outputs": [],
   "source": []
  }
 ],
 "metadata": {
  "anaconda-cloud": {},
  "kernelspec": {
   "display_name": "Python 3",
   "language": "python",
   "name": "python3"
  },
  "language_info": {
   "codemirror_mode": {
    "name": "ipython",
    "version": 3
   },
   "file_extension": ".py",
   "mimetype": "text/x-python",
   "name": "python",
   "nbconvert_exporter": "python",
   "pygments_lexer": "ipython3",
   "version": "3.7.1"
  }
 },
 "nbformat": 4,
 "nbformat_minor": 1
}
