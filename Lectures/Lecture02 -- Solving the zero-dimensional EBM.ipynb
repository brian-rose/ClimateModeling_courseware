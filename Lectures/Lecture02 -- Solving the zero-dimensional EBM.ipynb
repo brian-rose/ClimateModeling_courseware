{
 "cells": [
  {
   "cell_type": "markdown",
   "metadata": {
    "slideshow": {
     "slide_type": "slide"
    }
   },
   "source": [
    "# [ATM 623: Climate Modeling](../index.ipynb)\n",
    "\n",
    "[Brian E. J. Rose](http://www.atmos.albany.edu/facstaff/brose/index.html), University at Albany\n",
    "\n",
    "# Lecture 2: The zero-dimensional energy balance model"
   ]
  },
  {
   "cell_type": "markdown",
   "metadata": {
    "slideshow": {
     "slide_type": "skip"
    }
   },
   "source": [
    "### About these notes:\n",
    "\n",
    "This document uses the interactive [`Jupyter notebook`](https://jupyter.org) format. The notes can be accessed in several different ways:\n",
    "\n",
    "- The interactive notebooks are hosted on `github` at https://github.com/brian-rose/ClimateModeling_courseware\n",
    "- The latest versions can be viewed as static web pages [rendered on nbviewer](http://nbviewer.ipython.org/github/brian-rose/ClimateModeling_courseware/blob/master/index.ipynb)\n",
    "- A complete snapshot of the notes as of May 2017 (end of spring semester) are [available on Brian's website](http://www.atmos.albany.edu/facstaff/brose/classes/ATM623_Spring2017/Notes/index.html).\n",
    "\n",
    "[Also here is a legacy version from 2015](http://www.atmos.albany.edu/facstaff/brose/classes/ATM623_Spring2015/Notes/index.html).\n",
    "\n",
    "Many of these notes make use of the `climlab` package, available at https://github.com/brian-rose/climlab"
   ]
  },
  {
   "cell_type": "markdown",
   "metadata": {
    "slideshow": {
     "slide_type": "slide"
    }
   },
   "source": [
    "## Contents\n",
    "\n",
    "1. [Recap of global energy budget](#section1)\n",
    "2. [Tuning radiative fluxes to the observations](#section2)\n",
    "3. [Equilibrium temperature](#section3)\n",
    "4. [A time-dependent Energy Balance Model](#section4)\n",
    "5. [Representing time derivatives on a computer](#section5)\n",
    "6. [Numerical solution of the Energy Balance Model](#section6)\n",
    "7. [Analytical solution of the Energy Balance Model: e-folding time and feedback parameter](#section7)\n",
    "8. [Summary and take-away messages](#section8)"
   ]
  },
  {
   "cell_type": "code",
   "execution_count": null,
   "metadata": {
    "slideshow": {
     "slide_type": "slide"
    }
   },
   "outputs": [],
   "source": [
    "#  Ensure compatibility with Python 2 and 3\n",
    "from __future__ import print_function, division"
   ]
  },
  {
   "cell_type": "markdown",
   "metadata": {
    "slideshow": {
     "slide_type": "slide"
    }
   },
   "source": [
    "____________\n",
    "<a id='section1'></a>\n",
    "\n",
    "## 1. Recap of the global energy budget\n",
    "____________"
   ]
  },
  {
   "cell_type": "markdown",
   "metadata": {
    "slideshow": {
     "slide_type": "slide"
    }
   },
   "source": [
    "Let's look again at the observations:"
   ]
  },
  {
   "cell_type": "markdown",
   "metadata": {},
   "source": [
    "![Observed global energy flows from Trenberth and Fasullo (2012)](../images/GlobalEnergyBudget.png)"
   ]
  },
  {
   "cell_type": "markdown",
   "metadata": {
    "slideshow": {
     "slide_type": "slide"
    }
   },
   "source": [
    "____________\n",
    "<a id='section1'></a>\n",
    "\n",
    "## 2. Tuning radiative fluxes to the observations\n",
    "____________"
   ]
  },
  {
   "cell_type": "markdown",
   "metadata": {
    "slideshow": {
     "slide_type": "slide"
    }
   },
   "source": [
    "### Recap of our simple greenhouse model\n",
    "\n",
    "Last class we introduced a very simple model for the **OLR** or Outgoing Longwave Radiation to space:\n",
    "\n",
    "$$ \\text{OLR} = \\tau \\sigma T_s^4 $$\n",
    "\n",
    "where $\\tau$ is the **transmissivity** of the atmosphere, a number less than 1 that represents the greenhouse effect of Earth's atmosphere."
   ]
  },
  {
   "cell_type": "markdown",
   "metadata": {
    "slideshow": {
     "slide_type": "slide"
    }
   },
   "source": [
    "We also tuned this model to the observations by choosing $ \\tau \\approx 0.61$.\n",
    "\n",
    "More precisely:"
   ]
  },
  {
   "cell_type": "code",
   "execution_count": null,
   "metadata": {},
   "outputs": [],
   "source": [
    "OLRobserved = 238.5  # in W/m2\n",
    "sigma = 5.67E-8  # S-B constant\n",
    "Tsobserved = 288.  # global average surface temperature\n",
    "tau = OLRobserved / sigma / Tsobserved**4  # solve for tuned value of transmissivity\n",
    "print(tau)"
   ]
  },
  {
   "cell_type": "markdown",
   "metadata": {
    "slideshow": {
     "slide_type": "fragment"
    }
   },
   "source": [
    "Let's now deal with the shortwave (solar) side of the energy budget."
   ]
  },
  {
   "cell_type": "markdown",
   "metadata": {
    "slideshow": {
     "slide_type": "slide"
    }
   },
   "source": [
    "### Absorbed Shortwave Radiation (ASR) and Planetary Albedo\n",
    "\n",
    "Let's define a few terms."
   ]
  },
  {
   "cell_type": "markdown",
   "metadata": {
    "slideshow": {
     "slide_type": "fragment"
    }
   },
   "source": [
    "#### Global mean insolation\n",
    "\n",
    "From the observations, the area-averaged incoming solar radiation or **insolation** is 341.3 W m$^{-2}$.\n",
    "\n",
    "Let's denote this quantity by $Q$."
   ]
  },
  {
   "cell_type": "code",
   "execution_count": null,
   "metadata": {},
   "outputs": [],
   "source": [
    "Q = 341.3  # the insolation"
   ]
  },
  {
   "cell_type": "markdown",
   "metadata": {
    "slideshow": {
     "slide_type": "slide"
    }
   },
   "source": [
    "#### Planetary albedo\n",
    "\n",
    "Some of the incoming radiation is not absorbed at all but simply reflected back to space. Let's call this quantity $F_{reflected}$\n",
    "\n",
    "From observations we have:"
   ]
  },
  {
   "cell_type": "code",
   "execution_count": null,
   "metadata": {},
   "outputs": [],
   "source": [
    "Freflected = 101.9  #  reflected shortwave flux in W/m2"
   ]
  },
  {
   "cell_type": "markdown",
   "metadata": {
    "slideshow": {
     "slide_type": "slide"
    }
   },
   "source": [
    "\n",
    "The **planetary albedo** is the fraction of $Q$ that is reflected.\n",
    "\n",
    "We will denote the planetary albedo by $\\alpha$.\n",
    "\n",
    "From the observations:"
   ]
  },
  {
   "cell_type": "code",
   "execution_count": null,
   "metadata": {},
   "outputs": [],
   "source": [
    "alpha = Freflected / Q\n",
    "print(alpha)"
   ]
  },
  {
   "cell_type": "markdown",
   "metadata": {
    "slideshow": {
     "slide_type": "fragment"
    }
   },
   "source": [
    "That is, about 30% of the incoming radiation is reflected back to space."
   ]
  },
  {
   "cell_type": "markdown",
   "metadata": {
    "slideshow": {
     "slide_type": "slide"
    }
   },
   "source": [
    "#### Absorbed Shortwave Radiation\n",
    "\n",
    "The **Absorbed Shortwave Radiation** or ASR is the part of the incoming sunlight that is *not* reflected back to space, i.e. that part that is absorbed somewhere within the Earth system.\n",
    "\n",
    "Mathematically we write\n",
    "\n",
    "$$ \\text{ASR} = Q - F_{reflected} = (1-\\alpha) Q $$"
   ]
  },
  {
   "cell_type": "markdown",
   "metadata": {
    "slideshow": {
     "slide_type": "fragment"
    }
   },
   "source": [
    "From the observations:"
   ]
  },
  {
   "cell_type": "code",
   "execution_count": null,
   "metadata": {},
   "outputs": [],
   "source": [
    "ASRobserved = Q - Freflected\n",
    "print(ASRobserved)"
   ]
  },
  {
   "cell_type": "markdown",
   "metadata": {
    "slideshow": {
     "slide_type": "fragment"
    }
   },
   "source": [
    "As we noted last time, this number is *just slightly greater* than the observed OLR of 238.5 W m$^{-2}$."
   ]
  },
  {
   "cell_type": "markdown",
   "metadata": {
    "slideshow": {
     "slide_type": "slide"
    }
   },
   "source": [
    "____________\n",
    "<a id='section3'></a>\n",
    "\n",
    "## 3. Equilibrium temperature\n",
    "____________\n"
   ]
  },
  {
   "cell_type": "markdown",
   "metadata": {},
   "source": [
    "*This is one of the central concepts in climate modeling.*\n",
    "\n",
    "The Earth system is in **energy balance** when energy in = energy out, i.e. when\n",
    "\n",
    "$$ \\text{ASR} = \\text{OLR} $$"
   ]
  },
  {
   "cell_type": "markdown",
   "metadata": {
    "slideshow": {
     "slide_type": "fragment"
    }
   },
   "source": [
    "We want to know:\n",
    "\n",
    "- What surface temperature do we need to have this balance?\n",
    "- By how much would the temperature change in response to other changes in Earth system?\n",
    "    - Changes in greenhouse gases\n",
    "    - Changes in cloudiness\n",
    "    - etc.\n",
    "\n",
    "\n"
   ]
  },
  {
   "cell_type": "markdown",
   "metadata": {
    "slideshow": {
     "slide_type": "slide"
    }
   },
   "source": [
    "With our simple greenhouse model, we can get an **exact solution** for the equilibrium temperature.\n",
    "\n",
    "First, write down our statement of energy balance:\n",
    "\n",
    "$$ (1-\\alpha) Q = \\tau \\sigma T_s^4 $$"
   ]
  },
  {
   "cell_type": "markdown",
   "metadata": {
    "slideshow": {
     "slide_type": "fragment"
    }
   },
   "source": [
    "Rearrange to solve for $T_s$:\n",
    "\n",
    "$$ T_s^4 = \\frac{(1-\\alpha) Q}{\\tau \\sigma} $$\n",
    "\n",
    "and take the fourth root, denoting our **equilibrium temperature** as $T_{eq}$:\n",
    "\n",
    "$$ T_{eq} = \\left( \\frac{(1-\\alpha) Q}{\\tau \\sigma} \\right)^\\frac{1}{4} $$"
   ]
  },
  {
   "cell_type": "markdown",
   "metadata": {
    "slideshow": {
     "slide_type": "slide"
    }
   },
   "source": [
    "Plugging the observed values back in, we compute:"
   ]
  },
  {
   "cell_type": "code",
   "execution_count": null,
   "metadata": {},
   "outputs": [],
   "source": [
    "#  define a reusable function!\n",
    "def equilibrium_temperature(alpha,Q,tau):\n",
    "    return ((1-alpha)*Q/(tau*sigma))**(1/4)\n",
    "\n",
    "Teq_observed = equilibrium_temperature(alpha,Q,tau)\n",
    "print(Teq_observed)"
   ]
  },
  {
   "cell_type": "markdown",
   "metadata": {
    "slideshow": {
     "slide_type": "fragment"
    }
   },
   "source": [
    "And this equilibrium temperature is *just slightly warmer* than 288 K.  Why?"
   ]
  },
  {
   "cell_type": "markdown",
   "metadata": {
    "slideshow": {
     "slide_type": "slide"
    }
   },
   "source": [
    "### A climate change scenario\n",
    "\n",
    "Suppose that, due to global warming (changes in atmospheric composition and subsequent changes in cloudiness):\n",
    "\n",
    "- The longwave transmissitivity decreases to $\\tau = 0.57$ \n",
    "- The planetary albedo increases to $\\alpha = 0.32$\n",
    "\n",
    "What is the new equilibrium temperature?"
   ]
  },
  {
   "cell_type": "markdown",
   "metadata": {
    "slideshow": {
     "slide_type": "fragment"
    }
   },
   "source": [
    "For this very simple model, we can work out the answer exactly:"
   ]
  },
  {
   "cell_type": "code",
   "execution_count": null,
   "metadata": {},
   "outputs": [],
   "source": [
    "Teq_new = equilibrium_temperature(0.32,Q,0.57)\n",
    "#  an example of formatted print output, limiting to two or one decimal places\n",
    "print('The new equilibrium temperature is {:.2f} K.'.format(Teq_new))\n",
    "print('The equilibrium temperature increased by about {:.1f} K.'.format(Teq_new-Teq_observed))"
   ]
  },
  {
   "cell_type": "markdown",
   "metadata": {
    "slideshow": {
     "slide_type": "slide"
    }
   },
   "source": [
    "Most climate models are more complicated mathematically, and solving directly for the equilibrium temperature will not be possible! \n",
    "\n",
    "Instead, we will be able to use the model to calculate the terms in the energy budget (ASR and OLR)."
   ]
  },
  {
   "cell_type": "markdown",
   "metadata": {
    "slideshow": {
     "slide_type": "slide"
    }
   },
   "source": [
    "### Python exercise\n",
    "\n",
    "- Write Python functions to calculate ASR and OLR for *arbitrary parameter values*.\n",
    "- Verify the following:\n",
    "    - With the new parameter values but the old temperature T = 288 K, is ASR greater or lesser than OLR? \n",
    "    - Is the Earth gaining or losing energy?\n",
    "    - How does your answer change if T = 295 K (or any other temperature greater than 291 K)?"
   ]
  },
  {
   "cell_type": "code",
   "execution_count": null,
   "metadata": {},
   "outputs": [],
   "source": []
  },
  {
   "cell_type": "markdown",
   "metadata": {
    "slideshow": {
     "slide_type": "slide"
    }
   },
   "source": [
    "____________\n",
    "<a id='section4'></a>\n",
    "\n",
    "## 4. A time-dependent Energy Balance Model\n",
    "____________"
   ]
  },
  {
   "cell_type": "markdown",
   "metadata": {},
   "source": [
    "The above exercise shows us that if some properties of the climate system change in such a way that the **equilibrium temperature goes up**, then the Earth system *receives more energy from the sun than it is losing to space*. The system is **no longer in energy balance**.\n",
    "\n",
    "The temperature must then increase to get back into balance. The increase will not happen all at once! It will take time for energy to accumulate in the climate system. We want to model this **time-dependent adjustment** of the system.\n",
    "\n",
    "In fact almost all climate models are **time-dependent**, meaning the model calculates **time derivatives** (rates of change) of climate variables."
   ]
  },
  {
   "cell_type": "markdown",
   "metadata": {
    "slideshow": {
     "slide_type": "slide"
    }
   },
   "source": [
    "### An energy balance equation\n",
    "\n",
    "We will write the **total energy budget** of the Earth system as\n",
    "\n",
    "$$ \\frac{dE}{dt} = (1-\\alpha) Q - OLR $$\n",
    "\n",
    "Note: **This is a generically true statement.** We have just defined some terms, and made the (very good) assumption that the only significant energy sources are radiative exchanges with space."
   ]
  },
  {
   "cell_type": "markdown",
   "metadata": {},
   "source": [
    "**This equation is the starting point for EVERY CLIMATE MODEL.**\n",
    "\n",
    "But so far, we don’t actually have a MODEL. We just have a statement of a budget. To use this budget to make a model, we need to relate terms in the budget to state variables of the atmosphere-ocean system.\n",
    "\n",
    "For now, the state variable we are most interested in is **temperature** – because it is directly connected to the physics of each term above.\n",
    "\n"
   ]
  },
  {
   "cell_type": "markdown",
   "metadata": {},
   "source": [
    "If we now suppose that \n",
    "\n",
    "$$ E = C T_s $$\n",
    "\n",
    "where $T_s$ is the **global mean surface temperature**, and $C$ is a constant – the **effective heat capacity** of the atmosphere- ocean column.\n",
    "\n",
    "then our budget equation becomes:"
   ]
  },
  {
   "cell_type": "markdown",
   "metadata": {},
   "source": [
    "\n",
    "$$ C \\frac{dT_s}{dt} = \\text{ASR} - \\text{OLR} $$"
   ]
  },
  {
   "cell_type": "markdown",
   "metadata": {},
   "source": [
    "where\n",
    "\n",
    "- $C$ is the **heat capacity** of Earth system, in units of J m$^{-2}$ K$^{-1}$.\n",
    "- $\\frac{dT}{dt}$ is the rate of change of global average surface temperature."
   ]
  },
  {
   "cell_type": "markdown",
   "metadata": {
    "slideshow": {
     "slide_type": "slide"
    }
   },
   "source": [
    "By adopting this equation, we are assuming that the energy content of the Earth system (atmosphere, ocean, ice, etc.) is *proportional to surface temperature*.\n",
    "\n",
    "Important things to think about:\n",
    "\n",
    "- Why is this a sensible assumption?\n",
    "- What determines the heat capacity $C$?\n",
    "- What are some limitations of this assumption?\n"
   ]
  },
  {
   "cell_type": "markdown",
   "metadata": {
    "slideshow": {
     "slide_type": "slide"
    }
   },
   "source": [
    "For our purposes here we are going to use a value of C equivalent to heating 100 meters of water:\n",
    "\n",
    "$$C = c_w \\rho_w H$$\n",
    "\n",
    "where \n",
    "\n",
    "$c_w = 4 \\times 10^3$ J kg$^{-1}$ $^\\circ$C$^{-1}$ is the specific heat of water,\n",
    "\n",
    "$\\rho_w = 10^3$ kg m$^{-3}$ is the density of water, and\n",
    "\n",
    "$H$ is an effective depth of water that is heated or cooled."
   ]
  },
  {
   "cell_type": "code",
   "execution_count": null,
   "metadata": {},
   "outputs": [],
   "source": [
    "c_w = 4E3  #  Specific heat of water in J/kg/K\n",
    "rho_w = 1E3  #  Density of water in kg/m3\n",
    "H = 100.   #  Depth of water in m\n",
    "C = c_w * rho_w * H   #  Heat capacity of the model \n",
    "print('The effective heat capacity is {:.1e} J/m2/K'.format(C))"
   ]
  },
  {
   "cell_type": "markdown",
   "metadata": {
    "slideshow": {
     "slide_type": "slide"
    }
   },
   "source": [
    "### Solving the energy balance model\n",
    "\n",
    "This is a first-order Ordinary Differential Equation (ODE) for $T_s$ as a function of time. It is also our very first climate model.\n",
    "\n",
    "To solve it (i.e. see how $T_s$ evolves from some specified initial condition) we have two choices:\n",
    "\n",
    "1. Solve it analytically\n",
    "2. Solve it numerically"
   ]
  },
  {
   "cell_type": "markdown",
   "metadata": {
    "slideshow": {
     "slide_type": "slide"
    }
   },
   "source": [
    "Option 1 (analytical) will usually not be possible because the equations will typically be too complex and non-linear. This is why computers are our best friends in the world of climate modeling.\n",
    "\n",
    "HOWEVER it is often useful and instructive to simplify a model down to something that is analytically solvable when possible. Why? Two reasons:\n",
    "\n",
    "1. Analysis will often yield a deeper understanding of the behavior of the system\n",
    "2. Gives us a benchmark against which to test the results of our numerical solutions."
   ]
  },
  {
   "cell_type": "markdown",
   "metadata": {
    "slideshow": {
     "slide_type": "slide"
    }
   },
   "source": [
    "____________\n",
    "<a id='section5'></a>\n",
    "\n",
    "## 5. Representing time derivatives on a computer\n",
    "____________"
   ]
  },
  {
   "cell_type": "markdown",
   "metadata": {},
   "source": [
    "Recall that the derivative is the **instantaneous rate of change**. It is defined as \n",
    "\n",
    "$$ \\frac{dT}{dt} = \\lim_{\\Delta t\\rightarrow 0}⁡ \\frac{\\Delta T}{\\Delta t}$$\n",
    "\n",
    "- **On the computer there is no such thing as an instantaneous change.** \n",
    "- We are always dealing with *discrete quantities*.\n",
    "- So we approximate the derivative with $\\Delta T/ \\Delta t$. \n",
    "- So long as we take the time interval $\\Delta t$ \"small enough\", the approximation is valid and useful.\n",
    "- (The meaning of \"small enough\" varies widely in practice. Let's not talk about it now)"
   ]
  },
  {
   "cell_type": "markdown",
   "metadata": {
    "slideshow": {
     "slide_type": "slide"
    }
   },
   "source": [
    "So we write our model as\n",
    "\n",
    "$$ C  \\frac{\\Delta T}{\\Delta t} \\approx \\text{ASR} - \\text{OLR}$$\n",
    "\n",
    "where $\\Delta T$ is the **change in temperature predicted by our model** over a short time interval $\\Delta t$."
   ]
  },
  {
   "cell_type": "markdown",
   "metadata": {},
   "source": [
    "We can now use this to **make a prediction**: \n",
    "\n",
    "Given a current temperature $T_1$ at time $t_1$, what is the temperature $T_2$ at a future time $t_2$?"
   ]
  },
  {
   "cell_type": "markdown",
   "metadata": {
    "slideshow": {
     "slide_type": "slide"
    }
   },
   "source": [
    "We can write\n",
    "\n",
    "$$ \\Delta T = T_2-T_1 $$\n",
    "$$ \\Delta t = t_2-t_1 $$\n",
    "\n",
    "and so our model says\n",
    "\n",
    "$$ C  \\frac{T_2-T_1}{\\Delta t} = \\text{ASR} - \\text{OLR} $$\n",
    "\n",
    "Which we can rearrange to **solve for the future temperature**:\n",
    "\n",
    "$$ T_2 = T_1 + \\frac{\\Delta t}{C} \\left( \\text{ASR} - \\text{OLR}(T_1) \\right)  $$\n",
    "\n",
    "We now have a formula with which to make our prediction!\n",
    "\n",
    "Notice that we have written the OLR as a *function of temperature*. We will use the current temperature $T_1$ to compute the OLR, and use that OLR to determine the future temperature."
   ]
  },
  {
   "cell_type": "markdown",
   "metadata": {
    "slideshow": {
     "slide_type": "slide"
    }
   },
   "source": [
    "____________\n",
    "<a id='section6'></a>\n",
    "\n",
    "## 6. Numerical solution of the Energy Balance Model\n",
    "____________"
   ]
  },
  {
   "cell_type": "markdown",
   "metadata": {},
   "source": [
    "The quantity $\\Delta t$ is called a **timestep**. It is the smallest time interval represented in our model.\n",
    "\n",
    "Here we're going to use a timestep of 1 year:"
   ]
  },
  {
   "cell_type": "code",
   "execution_count": null,
   "metadata": {},
   "outputs": [],
   "source": [
    "dt = 60. * 60. * 24. * 365.   # one year expressed in seconds"
   ]
  },
  {
   "cell_type": "code",
   "execution_count": null,
   "metadata": {
    "slideshow": {
     "slide_type": "slide"
    }
   },
   "outputs": [],
   "source": [
    "# Try a single timestep, assuming we have working functions for ASR and OLR\n",
    "T1 = 288.\n",
    "T2 = T1 + dt / C * ( ASR(alpha=0.32) - OLR(T1, tau=0.57) )\n",
    "print(T2)"
   ]
  },
  {
   "cell_type": "markdown",
   "metadata": {},
   "source": [
    "What happened? Why?"
   ]
  },
  {
   "cell_type": "markdown",
   "metadata": {
    "slideshow": {
     "slide_type": "slide"
    }
   },
   "source": [
    "Try another timestep"
   ]
  },
  {
   "cell_type": "code",
   "execution_count": null,
   "metadata": {},
   "outputs": [],
   "source": [
    "T1 = T2\n",
    "T2 = T1 + dt / C * ( ASR(alpha=0.32) - OLR(T1, tau=0.57) )\n",
    "print(T2)"
   ]
  },
  {
   "cell_type": "markdown",
   "metadata": {},
   "source": [
    "Warmed up again, but by a smaller amount."
   ]
  },
  {
   "cell_type": "markdown",
   "metadata": {
    "slideshow": {
     "slide_type": "slide"
    }
   },
   "source": [
    "But this is tedious typing. Time to **define a function** to make things easier and more reliable:"
   ]
  },
  {
   "cell_type": "code",
   "execution_count": null,
   "metadata": {},
   "outputs": [],
   "source": [
    "def step_forward(T):\n",
    "    return T + dt / C * ( ASR(alpha=0.32) - OLR(T, tau=0.57) )"
   ]
  },
  {
   "cell_type": "markdown",
   "metadata": {
    "slideshow": {
     "slide_type": "slide"
    }
   },
   "source": [
    "Try it out with an arbitrary temperature:"
   ]
  },
  {
   "cell_type": "code",
   "execution_count": null,
   "metadata": {},
   "outputs": [],
   "source": [
    "step_forward(300.)"
   ]
  },
  {
   "cell_type": "markdown",
   "metadata": {},
   "source": [
    "Notice that our function calls other functions and variables we have already defined."
   ]
  },
  {
   "cell_type": "markdown",
   "metadata": {
    "slideshow": {
     "slide_type": "slide"
    }
   },
   "source": [
    "#### Python fact 10: Functions can access variables and other functions defined outside of the function. \n",
    "\n",
    "This is both very useful and occasionally confusing."
   ]
  },
  {
   "cell_type": "markdown",
   "metadata": {
    "slideshow": {
     "slide_type": "slide"
    }
   },
   "source": [
    "Now let's really harness the power of the computer by **making a loop** (and storing values in arrays):"
   ]
  },
  {
   "cell_type": "code",
   "execution_count": null,
   "metadata": {},
   "outputs": [],
   "source": [
    "import numpy as np\n",
    "\n",
    "numsteps = 20\n",
    "Tsteps = np.zeros(numsteps+1)\n",
    "Years = np.zeros(numsteps+1)\n",
    "Tsteps[0] = 288. \n",
    "for n in range(numsteps):\n",
    "    Years[n+1] = n+1\n",
    "    Tsteps[n+1] = step_forward( Tsteps[n] )\n",
    "print(Tsteps)"
   ]
  },
  {
   "cell_type": "markdown",
   "metadata": {},
   "source": [
    "What did we just do?\n",
    "\n",
    "- Created an array of zeros\n",
    "- set the initial temperature to 288 K\n",
    "- repeated our time step 20 times. \n",
    "- Stored the results of each time step into the array."
   ]
  },
  {
   "cell_type": "markdown",
   "metadata": {
    "slideshow": {
     "slide_type": "slide"
    }
   },
   "source": [
    "#### Python fact 11: the `for` statement executes a statement (or series of statements) a specified number of times (a loop!)"
   ]
  },
  {
   "cell_type": "markdown",
   "metadata": {
    "slideshow": {
     "slide_type": "slide"
    }
   },
   "source": [
    "#### Python fact 12: Use square bracket [ ] to refer to elements of an array or list. Use round parentheses ( ) for function arguments. "
   ]
  },
  {
   "cell_type": "markdown",
   "metadata": {
    "slideshow": {
     "slide_type": "slide"
    }
   },
   "source": [
    "### Plotting the result\n",
    "\n",
    "Now let's draw a picture of our result!"
   ]
  },
  {
   "cell_type": "code",
   "execution_count": null,
   "metadata": {},
   "outputs": [],
   "source": [
    "# a special instruction for the Jupyter notebook\n",
    "#   Display all plots inline in the notebook\n",
    "%matplotlib inline  \n",
    "#  import the plotting package\n",
    "import matplotlib.pyplot as plt"
   ]
  },
  {
   "cell_type": "code",
   "execution_count": null,
   "metadata": {},
   "outputs": [],
   "source": [
    "plt.plot( Years, Tsteps )\n",
    "plt.xlabel('Years')\n",
    "plt.ylabel('Global mean temperature (K)');"
   ]
  },
  {
   "cell_type": "markdown",
   "metadata": {
    "slideshow": {
     "slide_type": "slide"
    }
   },
   "source": [
    "Note how the temperature *adjusts smoothly toward the equilibrium temperature*, that is, the temperature at which\n",
    "ASR = OLR.\n",
    "\n",
    "**If the planetary energy budget is out of balance, the temperature must change so that the OLR gets closer to the ASR!**\n",
    "\n",
    "The adjustment is actually an *exponential decay* process: The rate of adjustment slows as the temperature approaches equilibrium. \n",
    "\n",
    "The temperature gets very very close to equilibrium but never reaches it exactly."
   ]
  },
  {
   "cell_type": "markdown",
   "metadata": {
    "slideshow": {
     "slide_type": "slide"
    }
   },
   "source": [
    "#### Python fact 13: We can easily make simple graphs with the function `plt.plot(x,y)`, where `x` and `y` are arrays of the same size. But we must import it first. \n",
    "\n",
    "This is actually not native Python, but uses a special graphics library called `matplotlib`. \n",
    "\n",
    "Just about all of our notebooks will start with this:\n",
    "```\n",
    "%matplotlib inline\n",
    "import numpy as np\n",
    "import matplotlib.pyplot as plt\n",
    "```"
   ]
  },
  {
   "cell_type": "code",
   "execution_count": null,
   "metadata": {},
   "outputs": [],
   "source": []
  },
  {
   "cell_type": "markdown",
   "metadata": {},
   "source": [
    "____________\n",
    "<a id='section7'></a>\n",
    "\n",
    "## 7. Analytical solution of the Energy Balance Model: e-folding time and feedback parameter\n",
    "____________"
   ]
  },
  {
   "cell_type": "markdown",
   "metadata": {
    "slideshow": {
     "slide_type": "slide"
    }
   },
   "source": [
    "### Equilibrium solutions\n",
    "\n",
    "We've already seen that the equilibrium solution of the model is\n",
    "\n",
    "$$ T_{eq} = \\left( \\frac{(1-\\alpha) Q}{\\tau \\sigma} \\right)^\\frac{1}{4} $$\n",
    "\n",
    "and tuned the model parameter based on this relationship."
   ]
  },
  {
   "cell_type": "markdown",
   "metadata": {
    "slideshow": {
     "slide_type": "fragment"
    }
   },
   "source": [
    "We are going to **linearize the equation** for small perturbations away from this equilibrium.\n",
    "\n",
    "Let $T_s = T_{eq} + T_s^\\prime$ and restrict our solution to $T_s^\\prime << T_{eq}$.\n",
    "\n",
    "Note this this is not a big restriction! For example, a 10 degree warming or cooling is just $\\pm$3.4% of the absolute equilibrium temperature."
   ]
  },
  {
   "cell_type": "markdown",
   "metadata": {
    "slideshow": {
     "slide_type": "slide"
    }
   },
   "source": [
    "### Linearizing the governing equation\n",
    "\n",
    "Now use a first-order Taylor series expansion to write\n",
    "\n",
    "$$ \\text{OLR} = \\tau \\sigma T_s^4 $$\n",
    "\n",
    "$$OLR = \\tau \\sigma T_s^4 = \\tau \\sigma \\left( T_{eq} + T_s^\\prime \\right)^4  \\approx \\tau \\sigma \\left( T_{eq}^4 + 4 T_{eq}^3 T_s^\\prime \\right) $$"
   ]
  },
  {
   "cell_type": "markdown",
   "metadata": {},
   "source": [
    "and the budget for the perturbation temperature thus becomes\n",
    "\n",
    "$$C \\frac{d T_s^\\prime}{d t} = -\\lambda_0 T_s^\\prime$$\n",
    "\n",
    "where we define\n",
    "\n",
    "$$\\lambda_0 = 4 \\tau \\sigma T_{eq}^3 $$"
   ]
  },
  {
   "cell_type": "markdown",
   "metadata": {
    "slideshow": {
     "slide_type": "slide"
    }
   },
   "source": [
    "Putting in our observational values, we get "
   ]
  },
  {
   "cell_type": "code",
   "execution_count": null,
   "metadata": {
    "slideshow": {
     "slide_type": "fragment"
    }
   },
   "outputs": [],
   "source": [
    "lambda_0 = 4 * sigma * tau * Teq_observed**3\n",
    "#  This is an example of formatted text output in Python\n",
    "print( 'lambda_0 = {:.2f} W m-2 K-1'.format(lambda_0)  )"
   ]
  },
  {
   "cell_type": "markdown",
   "metadata": {
    "slideshow": {
     "slide_type": "fragment"
    }
   },
   "source": [
    "This is actually our first estimate of what is often called the **Planck feedback**. It is the tendency for a warm surface to cool by increased longwave radiation to space. \n",
    "\n",
    "It may also be refered to as the \"no-feedback\" climate response parameter. As we will see, $\\lambda_0$ quantifies the sensitivity of the climate system in the absence of any actual feedback processes."
   ]
  },
  {
   "cell_type": "markdown",
   "metadata": {
    "slideshow": {
     "slide_type": "slide"
    }
   },
   "source": [
    "### Solve the linear ODE\n",
    "\n",
    "Now define\n",
    "\n",
    "$$ t^* = \\frac{C}{\\lambda_0}  $$\n",
    "\n",
    "This is a positive constant with dimensions of time (seconds). With these definitions the temperature evolves according to\n",
    "\n",
    "$$ \\frac{d T_s^\\prime}{d t} = - \\frac{T_s^\\prime}{t^*}$$\n",
    "\n",
    "This is one of the simplest ODEs. Hopefully it looks familiar to most of you. It is the equation for an **exponential decay** process. "
   ]
  },
  {
   "cell_type": "markdown",
   "metadata": {
    "slideshow": {
     "slide_type": "slide"
    }
   },
   "source": [
    "We can easily solve for the temperature evolution by integrating from an initial condition $T_s^\\prime(0)$:\n",
    "\n",
    "$$ \\int_{T_s^\\prime(0)}^{T_s^\\prime(t)} \\frac{d T_s^\\prime}{T_s^\\prime} = -\\int_0^t  \\frac{dt}{t^*}$$\n",
    "\n",
    "$$\\ln \\bigg( \\frac{T_s^\\prime(t)}{T_s^\\prime(0)} \\bigg) = -\\frac{t}{t^*}$$\n",
    "\n",
    "$$T_s^\\prime(t) = T_s^\\prime(0) \\exp \\bigg(-\\frac{t}{t^*} \\bigg)$$\n",
    "\n",
    "I hope that the mathematics is straightforward for everyone in this class. If not, go through it carefully and make sure you understand each step."
   ]
  },
  {
   "cell_type": "markdown",
   "metadata": {
    "slideshow": {
     "slide_type": "slide"
    }
   },
   "source": [
    "### e-folding time for relaxation of global mean temperature\n",
    "\n",
    "Our model says that surface temperature will relax toward its equilibrium value over a characteristic time scale $t^*$. This is an **e-folding time** – the time it takes for the perturbation to decay by a factor $1/e = 0.37$\n",
    "\n",
    "*What should this timescale be for the climate system?*\n",
    "\n",
    "To estimate $t^*$ we need a value for the effective heat capacity $C$.\n",
    "\n",
    "Our \"quick and dirty\" estimate above used 100 meters of water to set this heat capacity."
   ]
  },
  {
   "cell_type": "markdown",
   "metadata": {
    "slideshow": {
     "slide_type": "slide"
    }
   },
   "source": [
    "#### What is the right choice for water depth $H$? \n",
    "\n",
    "That turns out to be an interesting and subtle question. It depends very much on the timescale of the problem\n",
    "\n",
    "- days?\n",
    "- years?\n",
    "- decades?\n",
    "- millenia?"
   ]
  },
  {
   "cell_type": "markdown",
   "metadata": {
    "slideshow": {
     "slide_type": "slide"
    }
   },
   "source": [
    "We will revisit this question later in the course. For now, let’s just continue assuming $H = 100$ m (a bit deeper than the typical depth of the surface mixed layer in the oceans).\n",
    "\n",
    "Now calculate the e-folding time for the surface temperature:"
   ]
  },
  {
   "cell_type": "code",
   "execution_count": null,
   "metadata": {
    "slideshow": {
     "slide_type": "fragment"
    }
   },
   "outputs": [],
   "source": [
    "tstar = C / lambda_0   #  Calculated value of relaxation time constant\n",
    "seconds_per_year = 60.*60.*24.*365.\n",
    "print( 'The e-folding time is {:1.2e} seconds or about {:1.0f} years.'.format(tstar, tstar / seconds_per_year))"
   ]
  },
  {
   "cell_type": "markdown",
   "metadata": {
    "slideshow": {
     "slide_type": "fragment"
    }
   },
   "source": [
    "This is a rather fast timescale relative to other processes that can affect the planetary energy budget. \n",
    "\n",
    "**But notice that the climate feedback parameter $\\lambda$ is smaller, the timescale gets longer.**  We will come back to this later."
   ]
  },
  {
   "cell_type": "markdown",
   "metadata": {},
   "source": [
    "____________\n",
    "<a id='section8'></a>\n",
    "\n",
    "## 8. Summary and take-away messages\n",
    "____________"
   ]
  },
  {
   "cell_type": "markdown",
   "metadata": {
    "slideshow": {
     "slide_type": "slide"
    }
   },
   "source": [
    "- We looked at the flows of energy in and out of the Earth system. \n",
    "- These are determined by radiation at the top of the Earth's atmosphere.\n",
    "- Any imbalance between shortwave absorption (ASR) and longwave emission (OLR) drives a change in temperature\n",
    "- Using this idea, we built a climate model!\n",
    "- This **Zero-Dimensional Energy Balance Model** solves for the global, annual mean surface temperature $T_s$\n",
    "- Two key assumptions:\n",
    "    - Energy content of the Earth system varies proportionally to $T_s$\n",
    "    - The OLR increases as $\\tau \\sigma T_s^4$ (our simple greenhouse model)\n",
    "- Earth (or any planet) has a well-defined **equilibrium temperature** at which ASR = OLR, because of the *temperature dependence of the outgoing longwave radiation*.\n",
    "- The system will tend to relax toward its equilibrium temperature on an $e$-folding timescale that depends on \n",
    "    - (1) radiative feedback processes, and \n",
    "    - (2) effective heat capacity.\n",
    "- In our estimate, this e-folding time is relatively short. *In the absence of other processes that can either increase the heat capacity or lower (in absolute value) the feedback parameter, the Earth would never be very far out of energy balance.*\n",
    "- We will quantify this statement more as the term progresses."
   ]
  },
  {
   "cell_type": "markdown",
   "metadata": {
    "slideshow": {
     "slide_type": "skip"
    }
   },
   "source": [
    "<div class=\"alert alert-success\">\n",
    "[Back to ATM 623 notebook home](../index.ipynb)\n",
    "</div>"
   ]
  },
  {
   "cell_type": "markdown",
   "metadata": {
    "slideshow": {
     "slide_type": "skip"
    }
   },
   "source": [
    "____________\n",
    "## Version information\n",
    "____________\n"
   ]
  },
  {
   "cell_type": "code",
   "execution_count": null,
   "metadata": {
    "slideshow": {
     "slide_type": "skip"
    }
   },
   "outputs": [],
   "source": [
    "%load_ext version_information\n",
    "%version_information numpy, matplotlib"
   ]
  },
  {
   "cell_type": "markdown",
   "metadata": {
    "slideshow": {
     "slide_type": "slide"
    }
   },
   "source": [
    "____________\n",
    "\n",
    "## Credits\n",
    "\n",
    "The author of this notebook is [Brian E. J. Rose](http://www.atmos.albany.edu/facstaff/brose/index.html), University at Albany.\n",
    "\n",
    "It was developed in support of [ATM 623: Climate Modeling](http://www.atmos.albany.edu/facstaff/brose/classes/ATM623_Spring2015/), a graduate-level course in the [Department of Atmospheric and Envionmental Sciences](http://www.albany.edu/atmos/index.php)\n",
    "\n",
    "Development of these notes and the [climlab software](https://github.com/brian-rose/climlab) is partially supported by the National Science Foundation under award AGS-1455071 to Brian Rose. Any opinions, findings, conclusions or recommendations expressed here are mine and do not necessarily reflect the views of the National Science Foundation.\n",
    "____________"
   ]
  },
  {
   "cell_type": "code",
   "execution_count": null,
   "metadata": {},
   "outputs": [],
   "source": []
  }
 ],
 "metadata": {
  "anaconda-cloud": {},
  "kernelspec": {
   "display_name": "Python 3",
   "language": "python",
   "name": "python3"
  },
  "language_info": {
   "codemirror_mode": {
    "name": "ipython",
    "version": 3
   },
   "file_extension": ".py",
   "mimetype": "text/x-python",
   "name": "python",
   "nbconvert_exporter": "python",
   "pygments_lexer": "ipython3",
   "version": "3.7.1"
  }
 },
 "nbformat": 4,
 "nbformat_minor": 2
}
