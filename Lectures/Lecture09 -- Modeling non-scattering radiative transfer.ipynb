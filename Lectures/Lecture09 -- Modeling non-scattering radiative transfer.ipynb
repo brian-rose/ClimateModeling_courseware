{
 "cells": [
  {
   "cell_type": "markdown",
   "metadata": {
    "slideshow": {
     "slide_type": "slide"
    }
   },
   "source": [
    "# [ATM 623: Climate Modeling](../index.ipynb)\n",
    "\n",
    "[Brian E. J. Rose](http://www.atmos.albany.edu/facstaff/brose/index.html), University at Albany\n",
    "\n",
    "# Lecture 8: Modeling non-scattering radiative transfer"
   ]
  },
  {
   "cell_type": "markdown",
   "metadata": {
    "slideshow": {
     "slide_type": "skip"
    }
   },
   "source": [
    "### About these notes:\n",
    "\n",
    "This document uses the interactive [`Jupyter notebook`](https://jupyter.org) format. The notes can be accessed in several different ways:\n",
    "\n",
    "- The interactive notebooks are hosted on `github` at https://github.com/brian-rose/ClimateModeling_courseware\n",
    "- The latest versions can be viewed as static web pages [rendered on nbviewer](http://nbviewer.ipython.org/github/brian-rose/ClimateModeling_courseware/blob/master/index.ipynb)\n",
    "- A complete snapshot of the notes as of May 2017 (end of spring semester) are [available on Brian's website](http://www.atmos.albany.edu/facstaff/brose/classes/ATM623_Spring2017/Notes/index.html).\n",
    "\n",
    "[Also here is a legacy version from 2015](http://www.atmos.albany.edu/facstaff/brose/classes/ATM623_Spring2015/Notes/index.html).\n",
    "\n",
    "Many of these notes make use of the `climlab` package, available at https://github.com/brian-rose/climlab"
   ]
  },
  {
   "cell_type": "code",
   "execution_count": 1,
   "metadata": {
    "collapsed": true
   },
   "outputs": [],
   "source": [
    "#  Ensure compatibility with Python 2 and 3\n",
    "from __future__ import print_function, division"
   ]
  },
  {
   "cell_type": "markdown",
   "metadata": {
    "slideshow": {
     "slide_type": "slide"
    }
   },
   "source": [
    "## Contents\n",
    "\n",
    "1. [The two-stream Schwarschild equations](#section1)\n",
    "2. [The Grey Gas Model](#section2)\n",
    "3. [Discretizing the Grey Gas equations on a finite grid](#section3)\n",
    "4. [Matrix equations for the Grey Gas model](#section4)\n",
    "5. [Band-averaged radiation models in `climlab`](#section5)\n",
    "6. [References](#references)"
   ]
  },
  {
   "cell_type": "markdown",
   "metadata": {
    "slideshow": {
     "slide_type": "slide"
    }
   },
   "source": [
    "____________\n",
    "<a id='section1'></a>\n",
    "\n",
    "## 1. The two-stream Schwarschild equations\n",
    "____________\n",
    "\n",
    "Here we are going to introduce the governing equations of radiative transfer to put what we've been doing on a more solid theoretical footing.\n",
    "\n",
    "Our derivations here will also serve as a coherent documentation for how some of the radiation solvers are implemented in `climlab`."
   ]
  },
  {
   "cell_type": "markdown",
   "metadata": {
    "slideshow": {
     "slide_type": "slide"
    }
   },
   "source": [
    "### Optical thickness\n",
    "\n",
    "The **optical thickness** of a layer of absorbers is $\\Delta \\tau_\\nu$. It is the emissivity and absorptivity of a layer of atmosphere.\n",
    "\n",
    "Passing to the limit of very thin layers, we define $\\tau_\\nu$ through\n",
    "\n",
    "$$ \\frac{d \\tau_\\nu}{dp} = -\\frac{1}{g} \\kappa_\\nu $$\n",
    "\n",
    "where **$\\kappa_\\nu$ is an absorption cross-section** per unit mass at frequency $\\nu$. It has units m$^2$ kg$^{-1}$. $\\kappa$ is a measure of the area taken out of the incident beam by absorbers in a unit mass of atmosphere.\n",
    "\n",
    "In general **$\\tau_\\nu$ depends on the frequency of the radiation**, as indicated here by the subscript $\\nu$."
   ]
  },
  {
   "cell_type": "markdown",
   "metadata": {
    "slideshow": {
     "slide_type": "slide"
    }
   },
   "source": [
    "### Using optical depth as vertical coordinate\n",
    "\n",
    "Since pressure decreases with altitude, $\\tau_\\nu$ increases with altitude.\n",
    "\n",
    "The equations of radiative transfer can be simplified by using $\\tau_\\nu$ as vertical coordinate instead of pressure."
   ]
  },
  {
   "cell_type": "markdown",
   "metadata": {
    "slideshow": {
     "slide_type": "slide"
    }
   },
   "source": [
    "### Absorption cross-section\n",
    "\n",
    "The specific absorption cross section $\\kappa$ depends on the number of molecules of each greenhouse gas encountered by the beam and the absorption properties characteristic to each kind of greenhouse gas molecule. Letting $q_k$ be the mass-specific concentration of greenhouse gas $k$, we may write in general\n",
    "\n",
    "$$ \\kappa(\\nu, p, T) = \\sum_{k=1}^n \\kappa_k\\big(\\nu, p, T \\big) q_k(p) $$"
   ]
  },
  {
   "cell_type": "markdown",
   "metadata": {
    "slideshow": {
     "slide_type": "slide"
    }
   },
   "source": [
    "For a well-mixed greenhouse gas, $q_k$ is a constant; for a non-well-mixed gas like water vapor we need to account for the vertical distribution of the gas through $q_k(p)$.\n",
    "\n",
    "The dependence of $\\kappa_k$ on temperature and pressure arises from certain aspects of the physics of molecular absorption. "
   ]
  },
  {
   "cell_type": "markdown",
   "metadata": {
    "slideshow": {
     "slide_type": "slide"
    }
   },
   "source": [
    "### Two-stream Schwarzschild equations\n",
    "\n",
    "For climate modeling we almost always seperate the total flux into two beams: **upward** and **downward**. \n",
    "\n",
    "This involves taking integrals of the full angular dependence of the flux. We'll skip the details here."
   ]
  },
  {
   "cell_type": "markdown",
   "metadata": {
    "slideshow": {
     "slide_type": "slide"
    }
   },
   "source": [
    "Let $U_\\nu$ be the upward beam, and $D_\\nu$ be the downward beam. The governing equations for these beams are the *Schwarzschild equations*:\n",
    "\n",
    "\\begin{align}\n",
    "\\frac{d U_\\nu}{d \\tau_\\nu} &= -U_\\nu + E\\big( \\nu, T(\\tau_\\nu) \\big) \\\\\n",
    "\\frac{d D_\\nu}{d \\tau_\\nu} &= D_\\nu - E\\big( \\nu, T(\\tau_\\nu) \\big) \n",
    "\\end{align}\n",
    "\n",
    "where $E$ is the **blackbody emission** (both up and down), which in general depends on both **frequency** and **temperature**. We have written temperature as a function of the vertical coordinate (optical depth). "
   ]
  },
  {
   "cell_type": "markdown",
   "metadata": {
    "slideshow": {
     "slide_type": "slide"
    }
   },
   "source": [
    "The emissions are governed by the **Planck function**:\n",
    "\\begin{align}\n",
    "E &= \\pi~ B\\big( \\nu, T \\big) \\\\\n",
    "B\\big( \\nu, T \\big) &= \\frac{2 h \\nu^3}{c^2} \\frac{1}{\\exp \\left( \\frac{h \\nu}{k T} \\right) -1} \n",
    "\\end{align}\n",
    "\n",
    "with these fundamental physical constants:\n",
    "\n",
    "- $h = 6.626 \\times 10^{-34} ~\\text{J s} $ is Planck's constant\n",
    "- $c = 3.00 \\times 10^8 ~\\text{m s}^{-1} $ is the speed of light\n",
    "- $k = 1.38 \\times 10^{-23} ~\\text{J K}^{-1} $ is the Boltzmann Thermodynamic Constant"
   ]
  },
  {
   "cell_type": "markdown",
   "metadata": {
    "slideshow": {
     "slide_type": "slide"
    }
   },
   "source": [
    "The two-stream equations basically say the beam is **attenuated by absorption** (first term) and **augmented by emission** (second term) in each thin layer of gas.\n",
    "\n",
    "These equations are valid for beam that are **not affected by scattering**. We may come back to that later."
   ]
  },
  {
   "cell_type": "markdown",
   "metadata": {
    "slideshow": {
     "slide_type": "slide"
    }
   },
   "source": [
    "____________\n",
    "<a id='section2'></a>\n",
    "\n",
    "## 2. The Grey Gas Model\n",
    "____________"
   ]
  },
  {
   "cell_type": "markdown",
   "metadata": {
    "slideshow": {
     "slide_type": "slide"
    }
   },
   "source": [
    "The absorption properties $\\kappa_i$ of most atmospheric gases varies enormously with the frequency of the radiation. Hence the optical thickness $\\tau_\\nu$ also has an intricate dependence on wavenumber or frequency. \n",
    "\n",
    "Our job as climate modelers is to calculate and understand the net atmospheric absorption and transmission of radiation. To do this thoroughly and accurately, the fluxes must be solved for individually on a very dense grid of wavenumbers, and then the results integrated over all wavenumbers."
   ]
  },
  {
   "cell_type": "markdown",
   "metadata": {
    "slideshow": {
     "slide_type": "slide"
    }
   },
   "source": [
    "Actual radiative transfer codes (as used in GCMs) apply a lot of tricks and shortcuts to simplify this brute-force approach, but lead to sets of equations that are difficult to understand.\n",
    "\n",
    "However, there is a lot we can understand about the basics of radiative transfer and the greenhouse effect by ignoring the spectral dependence of the flux."
   ]
  },
  {
   "cell_type": "markdown",
   "metadata": {
    "slideshow": {
     "slide_type": "slide"
    }
   },
   "source": [
    "Specifically, we make the approximation\n",
    "\n",
    "$$ \\kappa(\\nu, p, T) = \\kappa(p) $$\n",
    "\n",
    "so that the optical depth $\\tau$ is now **independent of frequency**.\n",
    "\n",
    "This is known as the **grey gas approximation**."
   ]
  },
  {
   "cell_type": "markdown",
   "metadata": {
    "slideshow": {
     "slide_type": "slide"
    }
   },
   "source": [
    "## Grey gas versions of the Schwarzschild equations"
   ]
  },
  {
   "cell_type": "markdown",
   "metadata": {
    "slideshow": {
     "slide_type": "slide"
    }
   },
   "source": [
    "### Integrating the Planck function\n",
    "\n",
    "If we assume $\\tau_\\nu$ is independent of frequency, we can then integrate the two-stream equations over all frequencies.\n",
    "\n",
    "The integral of the Planck function gives our familiar Stefan-Boltzmann blackbody radiation law\n",
    "\n",
    "$$ E(T) = \\int_0^{\\infty} \\pi B\\big( \\nu, T \\big) d\\nu = \\sigma T^4  $$\n",
    "\n",
    "with \n",
    "\n",
    "$$ \\sigma = \\frac{2 \\pi^5 k^4}{15 c^2 h^3} = 5.67 \\times 10^{-8} ~\\text{W m}^{-2}~\\text{K}^{-4}$$"
   ]
  },
  {
   "cell_type": "code",
   "execution_count": 2,
   "metadata": {
    "slideshow": {
     "slide_type": "slide"
    }
   },
   "outputs": [
    {
     "name": "stdout",
     "output_type": "stream",
     "text": [
      "5.6703726225913323e-08\n"
     ]
    },
    {
     "data": {
      "text/plain": [
       "True"
      ]
     },
     "execution_count": 2,
     "metadata": {},
     "output_type": "execute_result"
    }
   ],
   "source": [
    "# climlab has these constants available, and actually calculates sigma from the above formula\n",
    "import numpy as np\n",
    "import climlab \n",
    "\n",
    "sigma = ((2*np.pi**5 * climlab.constants.kBoltzmann**4) / \n",
    "         (15 * climlab.constants.c_light**2 * climlab.constants.hPlanck**3) )\n",
    "print( sigma)\n",
    "sigma == climlab.constants.sigma"
   ]
  },
  {
   "cell_type": "markdown",
   "metadata": {
    "slideshow": {
     "slide_type": "slide"
    }
   },
   "source": [
    "### The grey gas equations\n",
    "\n",
    "This gives the governing equations for the grey gas model:\n",
    "\n",
    "\\begin{align}\n",
    "\\frac{d U}{d \\tau} &= -U + \\sigma T(\\tau)^4 \\\\\n",
    "\\frac{d D}{d \\tau} &= D - \\sigma T(\\tau)^4 \n",
    "\\end{align}\n",
    "\n",
    "These equations now say that the beam is diminished by absorption in a thin layer (first term) and augmented by blackbody emission, where both processes are assumed to be independent of frequency."
   ]
  },
  {
   "cell_type": "markdown",
   "metadata": {
    "slideshow": {
     "slide_type": "slide"
    }
   },
   "source": [
    "### How do the fluxes change across a finite layer of absorbers?"
   ]
  },
  {
   "cell_type": "markdown",
   "metadata": {
    "slideshow": {
     "slide_type": "slide"
    }
   },
   "source": [
    "The above equations are **linear, first order ODEs**, and they are uncoupled from each other (because we neglected scattering).\n",
    "\n",
    "**Consider a layer of atmosphere** from optical level $\\tau_{0}$ to $\\tau_{1}$. The optical thickness of the layer is $\\Delta \\tau = \\tau_{1} - \\tau_{0}$.\n",
    "\n",
    "The incident upwelling beam from below is denoted $U_{0}$; the upwelling beam that leaves the top of our layer is denoted $U_{1}$. We want to calculate $U_{1}$, which we can get by integrating the equation for $dU/d\\tau$ over our layer."
   ]
  },
  {
   "cell_type": "markdown",
   "metadata": {
    "slideshow": {
     "slide_type": "slide"
    }
   },
   "source": [
    "The result is\n",
    "\n",
    "$$ U_{1} = U_{0} \\exp(-\\Delta \\tau) + \\int_{\\tau_{0}}^{\\tau_{1}} E \\exp \\big( -(\\tau_{1} - \\tau) \\big) d\\tau $$\n",
    "\n",
    "where $\\tau$ is now a dummy variable of integration, and we've written the blackbody emissions as $E = \\sigma T^4$."
   ]
  },
  {
   "cell_type": "markdown",
   "metadata": {
    "slideshow": {
     "slide_type": "slide"
    }
   },
   "source": [
    "The change in the downwelling beam is similar:\n",
    "\n",
    "$$ D_{0} = D_{1} \\exp(-\\Delta \\tau ) + \\int_{\\tau_0}^{\\tau_1} E \\exp\\big( -(\\tau - \\tau_{0}) \\big) d\\tau $$"
   ]
  },
  {
   "cell_type": "markdown",
   "metadata": {
    "slideshow": {
     "slide_type": "slide"
    }
   },
   "source": [
    "____________\n",
    "<a id='section3'></a>\n",
    "\n",
    "## 3. Discretizing the Grey-gas equations on a finite grid\n",
    "____________\n",
    "\n",
    "\n",
    "One particularly important reason to think about these changes over finite layers is that we will typically solve the radiative transfer equations in a numerical model where the temperature is represented on a discrete grid (often using pressure coordinates)."
   ]
  },
  {
   "cell_type": "markdown",
   "metadata": {
    "slideshow": {
     "slide_type": "slide"
    }
   },
   "source": [
    "If we assume that **temperature is uniform everywhere in our layer** then the blackbody emission $E$ is also a constant across the layer, which we will denote $E_{0}$.\n",
    "\n",
    "It can come out the integral and the expressions simplify to\n",
    "\n",
    "\\begin{align}\n",
    "U_1 &= U_0 ~ \\exp(-\\Delta \\tau )  + E_{0} ~\\Big( 1 - \\exp(-\\Delta \\tau) \\Big)  \\\\\n",
    "D_0 &= D_1 ~ \\exp(-\\Delta \\tau )  + E_{0} ~\\Big( 1 - \\exp(-\\Delta \\tau) \\Big)\n",
    "\\end{align}"
   ]
  },
  {
   "cell_type": "markdown",
   "metadata": {
    "slideshow": {
     "slide_type": "slide"
    }
   },
   "source": [
    "### Transmissitivity\n",
    "The first term is the **transmission** of radition from the bottom to the top of the layer (or vice-versa). We can define the **transmissivity** of the layer (denoted $t_{0}$) as the fraction of the incident beam that is passed on to the next layer:\n",
    "\n",
    "\\begin{align}\n",
    "t_{0} &= \\frac{U_{0} \\exp(-\\Delta \\tau)}{U_{0}}  \\\\\n",
    " &= \\exp(-\\Delta \\tau)\\\\\n",
    "\\end{align}"
   ]
  },
  {
   "cell_type": "markdown",
   "metadata": {
    "slideshow": {
     "slide_type": "slide"
    }
   },
   "source": [
    "### Emissivity\n",
    "The second term is the net change in the beam due to **emissions** in the layer. \n",
    "\n",
    "We can the define the **emissivity** $\\epsilon_0$ of the layer analogously\n",
    "\n",
    "\\begin{align}\n",
    "\\epsilon_{0} &=  1 - \\exp(-\\Delta \\tau) \\\\\n",
    "  &= 1 - t_{0} \n",
    "\\end{align}"
   ]
  },
  {
   "cell_type": "markdown",
   "metadata": {
    "slideshow": {
     "slide_type": "slide"
    }
   },
   "source": [
    "### The discrete two-stream equations on a finite pressure grid\n",
    "\n",
    "Putting this all together gives us two simple equations that govern changes in the upwelling and downwelling beams across a discrete layer of optical depth $\\Delta \\tau$:\n",
    "\n",
    "\\begin{align}\n",
    "U_{1} &= t_0 ~ U_{0} + \\epsilon_{0} ~ E_{0}  \\\\\n",
    "D_{0} &= t_0 ~ D_{1} + \\epsilon_{0} ~ E_{0}  \\\\\n",
    "\\end{align}"
   ]
  },
  {
   "cell_type": "markdown",
   "metadata": {
    "slideshow": {
     "slide_type": "slide"
    }
   },
   "source": [
    "Our model will typically be discretized in pressure coordinates. Suppose the thickness of the layer is $\\Delta p$, then the optical depth is\n",
    "\n",
    "$$ \\Delta \\tau  = -\\frac{\\kappa}{g} \\Delta p$$ \n",
    "(the minus sign accounts for the opposite sign conventions of the two coordinates)."
   ]
  },
  {
   "cell_type": "markdown",
   "metadata": {
    "slideshow": {
     "slide_type": "slide"
    }
   },
   "source": [
    "Thus the emissivity of the layer is\n",
    "\n",
    "$$  \\epsilon_{0} = 1 - \\exp\\big( \\frac{\\kappa}{g} \\Delta p \\big)  $$\n",
    "\n",
    "In the grey gas approximation we ignore all spectral dependence of the flux, so $\\kappa$ is a constant (we could let it vary in the vertical to represent non-well-mixed greenhouse gases like water vapor), and the blackbody emissions are simply\n",
    "\n",
    "$$ E_0 = \\sigma T_0^4 $$"
   ]
  },
  {
   "cell_type": "markdown",
   "metadata": {
    "slideshow": {
     "slide_type": "slide"
    }
   },
   "source": [
    "____________\n",
    "<a id='section4'></a>\n",
    "\n",
    "## 4. Matrix equations for the grey gas model\n",
    "____________"
   ]
  },
  {
   "cell_type": "markdown",
   "metadata": {
    "slideshow": {
     "slide_type": "slide"
    }
   },
   "source": [
    "`climlab` implements the discretized two-stream equations as written above. \n",
    "\n",
    "We will now write out the equations on a discretized pressure grid with $N$ layers. \n",
    "\n",
    "Let the **upwelling flux** be a column vector \n",
    "\n",
    "$${\\bf{U}} = [U_0, U_1, ..., U_{N-1}, U_N]^T$$"
   ]
  },
  {
   "cell_type": "markdown",
   "metadata": {
    "slideshow": {
     "slide_type": "slide"
    }
   },
   "source": [
    "If there are $N$ levels then $\\bf{U}$ has $N+1$ elements (i.e. the fluxes are defined at the boundaries between levels). We will number the layers starting from 0 following `numpy` index conventions.\n",
    "\n",
    "- $U_0$ is the upwelling flux from surface to layer 0.\n",
    "- $U_1$ is the upwelling flux layer 0 to layer 1, etc.\n",
    "- $U_N$ is the upwelling flux from layer N-1 (the top level) to space."
   ]
  },
  {
   "cell_type": "markdown",
   "metadata": {
    "slideshow": {
     "slide_type": "slide"
    }
   },
   "source": [
    "Same for the **downwelling flux**\n",
    "\n",
    "$${\\bf{D}} = [D_0, D_1, ..., D_N]^T$$\n",
    "\n",
    "So $D_N$ is the flux down from space and $D_0$ is the back-radiation to the surface."
   ]
  },
  {
   "cell_type": "markdown",
   "metadata": {
    "slideshow": {
     "slide_type": "slide"
    }
   },
   "source": [
    "The **temperature** and **blackbody emissions** are defined for each $N$ pressure level, and are related by \n",
    "\n",
    "$$E_i = \\sigma T_i^4$$"
   ]
  },
  {
   "cell_type": "markdown",
   "metadata": {
    "slideshow": {
     "slide_type": "slide"
    }
   },
   "source": [
    "### Emissivity and Transmissivity vectors\n",
    "\n",
    "Let the vector of absorptivity / emissivity be \n",
    "\n",
    "$$ {\\bf{\\epsilon}} = [\\epsilon_0, \\epsilon_1, ..., \\epsilon_{N-1}] $$\n",
    "\n",
    "where each element is determined by the thickness of the layer and the absorption cross-section for this particular spectral band:\n",
    "\n",
    "$$ \\epsilon_{i} = 1 - \\exp\\big( \\frac{\\kappa}{g} \\Delta p_i \\big) $$"
   ]
  },
  {
   "cell_type": "markdown",
   "metadata": {
    "slideshow": {
     "slide_type": "slide"
    }
   },
   "source": [
    "And the transmissivity of individual layers is \n",
    "\n",
    "$$ t_{i} = 1 - \\epsilon_{i} $$\n",
    "\n",
    "It is convenient to define a vector of transmissivities ${\\bf{t}}$ with $N+1$ elements:\n",
    "\n",
    "$$ {\\bf{t}} = [1, t_0, t_1, ..., t_{N-1}] $$"
   ]
  },
  {
   "cell_type": "markdown",
   "metadata": {
    "slideshow": {
     "slide_type": "slide"
    }
   },
   "source": [
    "### The downwelling beam\n",
    "\n",
    "For the downwelling beam, we define a column vector of emissions with $N+1$ elements:\n",
    "\n",
    "$$ {\\bf{E_{down}}} = [E_0, E_1, ..., E_{N-1}, E_N]^{T} $$\n",
    "\n",
    "where we define the last element $E_N$ as the **incident flux at the TOA**.\n",
    "\n",
    "For a longwave model, we would usually set $E_N = 0$. For a shortwave model, this would be the incident solar radiation."
   ]
  },
  {
   "cell_type": "markdown",
   "metadata": {
    "slideshow": {
     "slide_type": "slide"
    }
   },
   "source": [
    "We want a matrix ${\\bf{T_{down}}}$ that, when multiplied by $E_N$, gives the downwelling beam at each of the $N+1$ layer interfaces:\n",
    "\n",
    "$${\\bf{D}} = {\\bf{T_{down}}} ~ {\\bf{E_{down}}} $$"
   ]
  },
  {
   "cell_type": "markdown",
   "metadata": {
    "slideshow": {
     "slide_type": "slide"
    }
   },
   "source": [
    "### The upwelling beam\n",
    "\n",
    "Define a vector of emissions for the upwelling beam thus:\n",
    "\n",
    "$$ {\\bf{E_{up}}} = [up_{sfc}, E_0, E_1, ..., E_{N-1}] $$"
   ]
  },
  {
   "cell_type": "markdown",
   "metadata": {
    "slideshow": {
     "slide_type": "slide"
    }
   },
   "source": [
    "We need to add the reflected part of the downwelling beam at the surface to any emissions from the surface:\n",
    "\n",
    "$$ up_{sfc} = E_{sfc} + \\alpha_{sfc} ~ D[0] $$"
   ]
  },
  {
   "cell_type": "markdown",
   "metadata": {
    "slideshow": {
     "slide_type": "slide"
    }
   },
   "source": [
    "Now we want a matrix ${\\bf{T_{up}}}$ such that the upwelling beam is\n",
    "\n",
    "$${\\bf{U}} = {\\bf{T_{up}}} ~ {\\bf{E_{up}}} $$"
   ]
  },
  {
   "cell_type": "markdown",
   "metadata": {
    "slideshow": {
     "slide_type": "slide"
    }
   },
   "source": [
    "### The transmissivity matrices\n",
    "\n",
    "$$ {\\bf{T_{up}}} = \\left[ \\begin{array}{ccccc} 1 & 0 & 0 &... & 0 & 0 \\\\  \n",
    "                                             t_0 & 1 & 0 & ... & 0 & 0 \\\\\n",
    "                                         t_1 t_0 & t_1 & 1 & ... & 0 & 0 \\\\\n",
    "                                     t_2 t_1 t_0 & t_2 t_1 & t_2 & ... & 0 & 0 \\\\\n",
    "                                     ... & ... & ... & ... & ... & ... \\\\\n",
    " \\prod_0^{N-1} t_i & \\prod_1^{N-1} t_i & \\prod_2^{N-1} t_i & ... & t_{N-1} & 1 \n",
    "   \\end{array} \\right] $$\n",
    "   \n",
    " and\n",
    " \n",
    "$$ {\\bf{T_{down}}} = {\\bf{T_{up}}}^T  $$\n",
    "\n",
    "These formulas have been implemented in `climlab.radiation.transmissivity.Transmissivity()` using vectorized `numpy` array operations."
   ]
  },
  {
   "cell_type": "code",
   "execution_count": 3,
   "metadata": {
    "slideshow": {
     "slide_type": "slide"
    }
   },
   "outputs": [
    {
     "name": "stdout",
     "output_type": "stream",
     "text": [
      "Matrix Tup is \n",
      "[[1.     0.42   0.1764]\n",
      " [0.     1.     0.42  ]\n",
      " [0.     0.     1.    ]]\n",
      "Matrix Tdown is \n",
      "[[1.     0.     0.    ]\n",
      " [0.42   1.     0.    ]\n",
      " [0.1764 0.42   1.    ]]\n"
     ]
    }
   ],
   "source": [
    "# example with N=2 layers and constant absorptivity\n",
    "#  we construct an array of absorptivities\n",
    "eps = np.array([0.58, 0.58])\n",
    "#  and pass these as argument to the Transmissivity class\n",
    "trans = climlab.radiation.transmissivity.Transmissivity(eps)\n",
    "print( 'Matrix Tup is ')\n",
    "print( trans.Tup)\n",
    "print( 'Matrix Tdown is ')\n",
    "print( trans.Tdown)"
   ]
  },
  {
   "cell_type": "markdown",
   "metadata": {
    "slideshow": {
     "slide_type": "slide"
    }
   },
   "source": [
    "____________\n",
    "<a id='section5'></a>\n",
    "\n",
    "## 5. Band-averaged radiation models in `climlab`\n",
    "____________\n",
    "\n",
    "The Grey Gas model is a useful first step in understanding how radiation shapes the global energy balance. But we quickly run up against its limitations when trying to understand what really determines climate sensitivity.\n",
    "\n",
    "What's the next step in the model hierarchy?"
   ]
  },
  {
   "cell_type": "markdown",
   "metadata": {
    "slideshow": {
     "slide_type": "slide"
    }
   },
   "source": [
    "Suppose we break up the spectrum into a discrete number $M$ of **spectral bands**. The idea is that we find parts of the spectrum in which the absorption characteristics of the important gases are relatively uniform. We then write the **band-averaged absorption cross section** for gas $k$ and band $j$ as\n",
    "\n",
    "$$ \\kappa_{kj} \\big(p, T \\big) = \\frac{\\int_{\\nu_j} \\kappa_j \\big(\\nu, p, T \\big) d \\nu }{  \\int_{\\nu_j} d \\nu } $$\n",
    "\n",
    "where we integrate over whatever part of the spectrum we have chosen to define band $j$. "
   ]
  },
  {
   "cell_type": "markdown",
   "metadata": {
    "slideshow": {
     "slide_type": "slide"
    }
   },
   "source": [
    "In our band models we will typically ignore any dependence of $\\kappa$ on temperature. The total absorption cross section for our band is thus (summing over all absorbing gases):\n",
    "\n",
    "$$ \\kappa_j(p) = \\sum_{k=1}^n \\kappa_{kj}(p) q_k(p) $$\n",
    "\n",
    "Notice that once we make this defintion, all of the formulas we wrote down above for the grey gas model can be written nearly identically for the fluxes in each band."
   ]
  },
  {
   "cell_type": "markdown",
   "metadata": {
    "slideshow": {
     "slide_type": "slide"
    }
   },
   "source": [
    "The optical depth in band $j$ is\n",
    "\n",
    "$$ \\Delta \\tau_j  = -\\frac{\\kappa_j}{g} \\Delta p$$ \n",
    "\n",
    "from which we can define emissivity and transmissivity for band $j$ just as above."
   ]
  },
  {
   "cell_type": "markdown",
   "metadata": {
    "slideshow": {
     "slide_type": "slide"
    }
   },
   "source": [
    "The only difference from the Grey Gas formulas is that the **blackbody emission** in band $j$ (denoted $E_j$) is now only a fraction of $\\sigma T^4$.\n",
    "\n",
    "We will denote this fraction as $b_j$."
   ]
  },
  {
   "cell_type": "markdown",
   "metadata": {
    "slideshow": {
     "slide_type": "slide"
    }
   },
   "source": [
    "The fraction $b_j$ is temperature-dependent, and can be solved by integrating the Planck function:\n",
    "\n",
    "$$ E_j(T) = \\int_{\\nu_j} \\pi B\\big( \\nu, T \\big) d\\nu $$\n",
    "\n",
    "To simplify our band models, we might choose to fix $b_j$ in advance and just assume\n",
    "\n",
    "$$ E_j(T) = b_j ~ \\sigma ~ T^4 $$\n",
    "\n",
    "which is sensible if the temperatures don't vary too much."
   ]
  },
  {
   "cell_type": "markdown",
   "metadata": {
    "slideshow": {
     "slide_type": "slide"
    }
   },
   "source": [
    "Regardless of how we calculate $b_j$, they must add up to one over all the bands in our model:\n",
    "\n",
    "$$ \\sum_0^{M-1} b_j = 1 $$"
   ]
  },
  {
   "cell_type": "markdown",
   "metadata": {
    "slideshow": {
     "slide_type": "slide"
    }
   },
   "source": [
    "Once we've figured out this division of the total flux into multiple bands, and we know the absorption cross-sections of each band, we can calculate the upwelling and downwelling fluxes independently for each band, **using the same formulas (same code!) as we use in the grey gas model**."
   ]
  },
  {
   "cell_type": "markdown",
   "metadata": {
    "slideshow": {
     "slide_type": "slide"
    }
   },
   "source": [
    "To get the total flux, we just need to sum the beams over all bands:\n",
    "\n",
    "\\begin{align}\n",
    "U &= \\sum_0^{M-1} U_j  \\\\\n",
    "D &= \\sum_0^{M-1} D_j  \n",
    "\\end{align}"
   ]
  },
  {
   "cell_type": "markdown",
   "metadata": {
    "slideshow": {
     "slide_type": "slide"
    }
   },
   "source": [
    "____________\n",
    "<a id='references'></a>\n",
    "\n",
    "## References\n",
    "____________\n",
    "\n",
    "For many more details about radiative transfer and a more careful derivation of the two-stream equations, see\n",
    "\n",
    "> Pierrehumbert, R. T. (2010). Principles of Planetary Climate. Cambridge University Press."
   ]
  },
  {
   "cell_type": "markdown",
   "metadata": {
    "slideshow": {
     "slide_type": "skip"
    }
   },
   "source": [
    "<div class=\"alert alert-success\">\n",
    "[Back to ATM 623 notebook home](../index.ipynb)\n",
    "</div>"
   ]
  },
  {
   "cell_type": "markdown",
   "metadata": {
    "slideshow": {
     "slide_type": "skip"
    }
   },
   "source": [
    "____________\n",
    "## Version information\n",
    "____________\n",
    "\n"
   ]
  },
  {
   "cell_type": "code",
   "execution_count": 4,
   "metadata": {
    "slideshow": {
     "slide_type": "skip"
    }
   },
   "outputs": [
    {
     "data": {
      "application/json": {
       "Software versions": [
        {
         "module": "Python",
         "version": "3.6.2 64bit [GCC 4.2.1 Compatible Clang 4.0.1 (tags/RELEASE_401/final)]"
        },
        {
         "module": "IPython",
         "version": "6.1.0"
        },
        {
         "module": "OS",
         "version": "Darwin 17.7.0 x86_64 i386 64bit"
        },
        {
         "module": "numpy",
         "version": "1.14.2"
        },
        {
         "module": "climlab",
         "version": "0.7.1.dev5"
        }
       ]
      },
      "text/html": [
       "<table><tr><th>Software</th><th>Version</th></tr><tr><td>Python</td><td>3.6.2 64bit [GCC 4.2.1 Compatible Clang 4.0.1 (tags/RELEASE_401/final)]</td></tr><tr><td>IPython</td><td>6.1.0</td></tr><tr><td>OS</td><td>Darwin 17.7.0 x86_64 i386 64bit</td></tr><tr><td>numpy</td><td>1.14.2</td></tr><tr><td>climlab</td><td>0.7.1.dev5</td></tr><tr><td colspan='2'>Tue Jan 15 13:51:37 2019 EST</td></tr></table>"
      ],
      "text/latex": [
       "\\begin{tabular}{|l|l|}\\hline\n",
       "{\\bf Software} & {\\bf Version} \\\\ \\hline\\hline\n",
       "Python & 3.6.2 64bit [GCC 4.2.1 Compatible Clang 4.0.1 (tags/RELEASE\\_401/final)] \\\\ \\hline\n",
       "IPython & 6.1.0 \\\\ \\hline\n",
       "OS & Darwin 17.7.0 x86\\_64 i386 64bit \\\\ \\hline\n",
       "numpy & 1.14.2 \\\\ \\hline\n",
       "climlab & 0.7.1.dev5 \\\\ \\hline\n",
       "\\hline \\multicolumn{2}{|l|}{Tue Jan 15 13:51:37 2019 EST} \\\\ \\hline\n",
       "\\end{tabular}\n"
      ],
      "text/plain": [
       "Software versions\n",
       "Python 3.6.2 64bit [GCC 4.2.1 Compatible Clang 4.0.1 (tags/RELEASE_401/final)]\n",
       "IPython 6.1.0\n",
       "OS Darwin 17.7.0 x86_64 i386 64bit\n",
       "numpy 1.14.2\n",
       "climlab 0.7.1.dev5\n",
       "Tue Jan 15 13:51:37 2019 EST"
      ]
     },
     "execution_count": 4,
     "metadata": {},
     "output_type": "execute_result"
    }
   ],
   "source": [
    "%load_ext version_information\n",
    "%version_information numpy, climlab"
   ]
  },
  {
   "cell_type": "markdown",
   "metadata": {
    "slideshow": {
     "slide_type": "slide"
    }
   },
   "source": [
    "____________\n",
    "\n",
    "## Credits\n",
    "\n",
    "The author of this notebook is [Brian E. J. Rose](http://www.atmos.albany.edu/facstaff/brose/index.html), University at Albany.\n",
    "\n",
    "It was developed in support of [ATM 623: Climate Modeling](http://www.atmos.albany.edu/facstaff/brose/classes/ATM623_Spring2015/), a graduate-level course in the [Department of Atmospheric and Envionmental Sciences](http://www.albany.edu/atmos/index.php)\n",
    "\n",
    "Development of these notes and the [climlab software](https://github.com/brian-rose/climlab) is partially supported by the National Science Foundation under award AGS-1455071 to Brian Rose. Any opinions, findings, conclusions or recommendations expressed here are mine and do not necessarily reflect the views of the National Science Foundation.\n",
    "____________"
   ]
  },
  {
   "cell_type": "code",
   "execution_count": null,
   "metadata": {
    "collapsed": true,
    "slideshow": {
     "slide_type": "skip"
    }
   },
   "outputs": [],
   "source": []
  }
 ],
 "metadata": {
  "anaconda-cloud": {},
  "kernelspec": {
   "display_name": "Python 3",
   "language": "python",
   "name": "python3"
  },
  "language_info": {
   "codemirror_mode": {
    "name": "ipython",
    "version": 3
   },
   "file_extension": ".py",
   "mimetype": "text/x-python",
   "name": "python",
   "nbconvert_exporter": "python",
   "pygments_lexer": "ipython3",
   "version": "3.6.2"
  }
 },
 "nbformat": 4,
 "nbformat_minor": 1
}
